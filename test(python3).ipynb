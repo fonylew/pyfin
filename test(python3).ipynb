{
 "cells": [
  {
   "cell_type": "code",
   "execution_count": 9,
   "metadata": {
    "collapsed": false
   },
   "outputs": [],
   "source": [
    "from googlefinance import getQuotes\n",
    "import json,sys"
   ]
  },
  {
   "cell_type": "code",
   "execution_count": 10,
   "metadata": {
    "collapsed": false
   },
   "outputs": [
    {
     "name": "stdout",
     "output_type": "stream",
     "text": [
      "[\n",
      "  {\n",
      "    \"ID\": \"877332529783424\",\n",
      "    \"StockSymbol\": \"AOT\",\n",
      "    \"Index\": \"BKK\",\n",
      "    \"LastTradePrice\": \"42.25\",\n",
      "    \"LastTradeWithCurrency\": \"THB42.25\",\n",
      "    \"LastTradeTime\": \"4:39PM GMT+7\",\n",
      "    \"LastTradeDateTime\": \"2017-05-26T16:39:30Z\",\n",
      "    \"LastTradeDateTimeLong\": \"May 26, 4:39PM GMT+7\"\n",
      "  }\n",
      "]\n"
     ]
    }
   ],
   "source": [
    "print(json.dumps(getQuotes('SET:AOT'),indent=2))"
   ]
  }
 ],
 "metadata": {
  "kernelspec": {
   "display_name": "Python 3",
   "language": "python",
   "name": "python3"
  },
  "language_info": {
   "codemirror_mode": {
    "name": "ipython",
    "version": 3
   },
   "file_extension": ".py",
   "mimetype": "text/x-python",
   "name": "python",
   "nbconvert_exporter": "python",
   "pygments_lexer": "ipython3",
   "version": "3.6.0"
  }
 },
 "nbformat": 4,
 "nbformat_minor": 2
}
